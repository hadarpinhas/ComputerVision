{
 "cells": [
  {
   "cell_type": "markdown",
   "id": "cdb74f16",
   "metadata": {},
   "source": [
    "# Regular Expressions"
   ]
  },
  {
   "cell_type": "code",
   "execution_count": 3,
   "id": "f13c6598",
   "metadata": {},
   "outputs": [],
   "source": [
    "import re"
   ]
  },
  {
   "cell_type": "code",
   "execution_count": 4,
   "id": "28c5ab49",
   "metadata": {},
   "outputs": [
    {
     "name": "stdout",
     "output_type": "stream",
     "text": [
      "hello world\n"
     ]
    }
   ],
   "source": [
    "print('hello world')"
   ]
  },
  {
   "cell_type": "code",
   "execution_count": 67,
   "id": "fddd8013",
   "metadata": {},
   "outputs": [
    {
     "data": {
      "text/plain": [
       "'Z:\\\\abc\\\\def\\\\4_3_(123_456)_1.bmp'"
      ]
     },
     "execution_count": 67,
     "metadata": {},
     "output_type": "execute_result"
    }
   ],
   "source": [
    "strIn = r'Z:\\abc\\def\\4_3_(123_456)_1.bmp'\n",
    "strIn"
   ]
  },
  {
   "cell_type": "code",
   "execution_count": 69,
   "id": "d5151325",
   "metadata": {},
   "outputs": [
    {
     "name": "stdout",
     "output_type": "stream",
     "text": [
      "['Z:', 'abc', 'def', '4_3_(123_456)_1.bmp']\n"
     ]
    }
   ],
   "source": [
    "strOut = re.split('\\\\\\\\',strIn)\n",
    "print(strOut)"
   ]
  },
  {
   "cell_type": "code",
   "execution_count": 77,
   "id": "17af26e4",
   "metadata": {},
   "outputs": [
    {
     "data": {
      "text/plain": [
       "'4_3_(123_456)_1.bmp'"
      ]
     },
     "execution_count": 77,
     "metadata": {},
     "output_type": "execute_result"
    }
   ],
   "source": [
    "fileName = strOut[-1]\n",
    "fileName"
   ]
  },
  {
   "cell_type": "code",
   "execution_count": 101,
   "id": "13c385f8",
   "metadata": {},
   "outputs": [
    {
     "name": "stdout",
     "output_type": "stream",
     "text": [
      "123_456\n"
     ]
    }
   ],
   "source": [
    "# ([^\\(]+?) - Start with  single character of (\n",
    "# (?=\\)) - characters before )\n",
    "pos = re.search(r'([^\\(]+?)(?=\\))',fileName)\n",
    "print(pos.group())"
   ]
  },
  {
   "cell_type": "code",
   "execution_count": null,
   "id": "95301655",
   "metadata": {},
   "outputs": [],
   "source": []
  }
 ],
 "metadata": {
  "kernelspec": {
   "display_name": "Python 3 (ipykernel)",
   "language": "python",
   "name": "python3"
  },
  "language_info": {
   "codemirror_mode": {
    "name": "ipython",
    "version": 3
   },
   "file_extension": ".py",
   "mimetype": "text/x-python",
   "name": "python",
   "nbconvert_exporter": "python",
   "pygments_lexer": "ipython3",
   "version": "3.9.0"
  }
 },
 "nbformat": 4,
 "nbformat_minor": 5
}
